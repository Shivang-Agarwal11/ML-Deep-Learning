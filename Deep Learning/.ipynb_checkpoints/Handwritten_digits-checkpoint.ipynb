{
 "cells": [
  {
   "cell_type": "code",
   "execution_count": 1,
   "metadata": {},
   "outputs": [],
   "source": [
    "import cv2\n",
    "import numpy as np\n",
    "import matplotlib.pyplot as plt\n",
    "%matplotlib inline\n",
    "from keras.datasets import mnist"
   ]
  },
  {
   "cell_type": "code",
   "execution_count": 2,
   "metadata": {},
   "outputs": [],
   "source": [
    "(x_train,y_train),(x_test,y_test)=mnist.load_data()"
   ]
  },
  {
   "cell_type": "code",
   "execution_count": 3,
   "metadata": {},
   "outputs": [
    {
     "name": "stdout",
     "output_type": "stream",
     "text": [
      "60000\n"
     ]
    }
   ],
   "source": [
    "print(len(x_train))"
   ]
  },
  {
   "cell_type": "code",
   "execution_count": 4,
   "metadata": {},
   "outputs": [],
   "source": [
    "# import numpy as np\n",
    "# import cv2\n",
    "# for i in range(0,6):\n",
    "#     random_num=np.random.randint(0,len(x_train))\n",
    "#     image=x_train[random_num]\n",
    "# #     print(image)\n",
    "#     window_name='Random Sampple'+str(i)\n",
    "#     cv2.imshow(window_name,image)\n",
    "#     cv2.waitKey(0)\n",
    "# cv2.destroyAllWindows()"
   ]
  },
  {
   "cell_type": "code",
   "execution_count": 5,
   "metadata": {},
   "outputs": [
    {
     "data": {
      "text/plain": [
       "(28, 28)"
      ]
     },
     "execution_count": 5,
     "metadata": {},
     "output_type": "execute_result"
    }
   ],
   "source": [
    "img_row=x_train[0].shape[0]\n",
    "img_col=x_train[1].shape[0]\n",
    "img_row,img_col"
   ]
  },
  {
   "cell_type": "code",
   "execution_count": 6,
   "metadata": {},
   "outputs": [],
   "source": [
    "x_train=x_train.reshape(len(x_train),img_row,img_col,1)\n",
    "x_test=x_test.reshape(len(x_test),img_row,img_col,1)\n",
    "input_shape=(img_row,img_col,1)\n",
    "\n",
    "x_train=x_train.astype('float32')\n",
    "x_test=x_test.astype('float32')\n",
    "x_train/=255\n",
    "x_test/=255"
   ]
  },
  {
   "cell_type": "code",
   "execution_count": 7,
   "metadata": {},
   "outputs": [],
   "source": [
    "from keras.utils import np_utils\n",
    "y_train=np_utils.to_categorical(y_train)\n",
    "y_test=np_utils.to_categorical(y_test)"
   ]
  },
  {
   "cell_type": "markdown",
   "metadata": {},
   "source": [
    "##Creating Model"
   ]
  },
  {
   "cell_type": "code",
   "execution_count": 8,
   "metadata": {},
   "outputs": [],
   "source": [
    "from keras.layers import Conv2D,Dense,MaxPooling2D,Dropout,Flatten,BatchNormalization\n",
    "from keras.models import Sequential\n"
   ]
  },
  {
   "cell_type": "code",
   "execution_count": 76,
   "metadata": {},
   "outputs": [],
   "source": [
    "model=Sequential()\n",
    "model.add(Conv2D(128,input_shape=input_shape,activation='relu',kernel_size=[3,3]))\n",
    "model.add(Conv2D(62,activation='relu',kernel_size=[3,3]))\n",
    "model.add(BatchNormalization())\n",
    "model.add(Conv2D(32,activation='relu',kernel_size=[3,3]))\n",
    "model.add(MaxPooling2D(pool_size=[2,2]))\n",
    "model.add(Dropout(0.2))\n",
    "model.add(Flatten())\n",
    "model.add(Dense(128,activation='relu'))\n",
    "model.add(Dropout(0.3))\n",
    "model.add(Dense(512,activation='relu'))\n",
    "model.add(Dropout(0.2))\n",
    "model.add(Dense(10,activation='softmax'))\n",
    "\n",
    "model.compile(loss='categorical_crossentropy',optimizer='adam',metrics=['accuracy'])"
   ]
  },
  {
   "cell_type": "code",
   "execution_count": 9,
   "metadata": {},
   "outputs": [],
   "source": [
    "# model.summary()\n",
    "# model.save('new.h5')\n",
    "from keras.models import load_model\n",
    "model=load_model('new.h5')"
   ]
  },
  {
   "cell_type": "code",
   "execution_count": 77,
   "metadata": {
    "collapsed": true
   },
   "outputs": [
    {
     "name": "stdout",
     "output_type": "stream",
     "text": [
      "Epoch 1/20\n",
      "   1/1875 [..............................] - ETA: 1s - loss: 2.6344 - accuracy: 0.0000e+00WARNING:tensorflow:Callbacks method `on_train_batch_end` is slow compared to the batch time (batch time: 0.0030s vs `on_train_batch_end` time: 0.0050s). Check your callbacks.\n",
      "1875/1875 [==============================] - 14s 8ms/step - loss: 0.1961 - accuracy: 0.9410 - val_loss: 0.0583 - val_accuracy: 0.9830\n",
      "Epoch 2/20\n",
      "1875/1875 [==============================] - 14s 8ms/step - loss: 0.0903 - accuracy: 0.9748 - val_loss: 0.0497 - val_accuracy: 0.9866\n",
      "Epoch 3/20\n",
      "1875/1875 [==============================] - 14s 8ms/step - loss: 0.0709 - accuracy: 0.9798 - val_loss: 0.0360 - val_accuracy: 0.9894\n",
      "Epoch 4/20\n",
      "1875/1875 [==============================] - 14s 8ms/step - loss: 0.0618 - accuracy: 0.9826 - val_loss: 0.0463 - val_accuracy: 0.9884\n",
      "Epoch 5/20\n",
      "1875/1875 [==============================] - 14s 8ms/step - loss: 0.0511 - accuracy: 0.9862 - val_loss: 0.0482 - val_accuracy: 0.9876\n",
      "Epoch 6/20\n",
      "1875/1875 [==============================] - 14s 8ms/step - loss: 0.0463 - accuracy: 0.9879 - val_loss: 0.0318 - val_accuracy: 0.9910\n",
      "Epoch 7/20\n",
      "1875/1875 [==============================] - 14s 8ms/step - loss: 0.0446 - accuracy: 0.9879 - val_loss: 0.0349 - val_accuracy: 0.9910\n",
      "Epoch 8/20\n",
      "1875/1875 [==============================] - 14s 8ms/step - loss: 0.0374 - accuracy: 0.9895 - val_loss: 0.0368 - val_accuracy: 0.9914\n",
      "Epoch 9/20\n",
      "1875/1875 [==============================] - 14s 8ms/step - loss: 0.0358 - accuracy: 0.9898 - val_loss: 0.0313 - val_accuracy: 0.9911\n",
      "Epoch 10/20\n",
      "1875/1875 [==============================] - 14s 8ms/step - loss: 0.0344 - accuracy: 0.9904 - val_loss: 0.0399 - val_accuracy: 0.9891\n",
      "Epoch 11/20\n",
      "1875/1875 [==============================] - 14s 8ms/step - loss: 0.0300 - accuracy: 0.9918 - val_loss: 0.0354 - val_accuracy: 0.9902\n",
      "Epoch 12/20\n",
      "1875/1875 [==============================] - 14s 8ms/step - loss: 0.0331 - accuracy: 0.9912 - val_loss: 0.0346 - val_accuracy: 0.9914\n",
      "Epoch 13/20\n",
      "1875/1875 [==============================] - 14s 8ms/step - loss: 0.0258 - accuracy: 0.9929 - val_loss: 0.0356 - val_accuracy: 0.9907\n",
      "Epoch 14/20\n",
      "1875/1875 [==============================] - 14s 8ms/step - loss: 0.0291 - accuracy: 0.9925 - val_loss: 0.0475 - val_accuracy: 0.9889\n",
      "Epoch 15/20\n",
      "1875/1875 [==============================] - 14s 8ms/step - loss: 0.0248 - accuracy: 0.9931 - val_loss: 0.0504 - val_accuracy: 0.9912\n",
      "Epoch 16/20\n",
      "1875/1875 [==============================] - 14s 8ms/step - loss: 0.0250 - accuracy: 0.9937 - val_loss: 0.0379 - val_accuracy: 0.9920\n",
      "Epoch 17/20\n",
      "1875/1875 [==============================] - 14s 8ms/step - loss: 0.0232 - accuracy: 0.9940 - val_loss: 0.0352 - val_accuracy: 0.9910\n",
      "Epoch 18/20\n",
      "1875/1875 [==============================] - 14s 8ms/step - loss: 0.0225 - accuracy: 0.9941 - val_loss: 0.0321 - val_accuracy: 0.9917\n",
      "Epoch 19/20\n",
      "1875/1875 [==============================] - 14s 8ms/step - loss: 0.0225 - accuracy: 0.9942 - val_loss: 0.0493 - val_accuracy: 0.9912\n",
      "Epoch 20/20\n",
      "1875/1875 [==============================] - 14s 8ms/step - loss: 0.0198 - accuracy: 0.9947 - val_loss: 0.0376 - val_accuracy: 0.9923\n"
     ]
    },
    {
     "data": {
      "text/plain": [
       "<tensorflow.python.keras.callbacks.History at 0x21ec82d5d30>"
      ]
     },
     "execution_count": 77,
     "metadata": {},
     "output_type": "execute_result"
    }
   ],
   "source": [
    "model.fit(x_train,y_train,epochs=20,batch_size=32,validation_data=(x_test,y_test))"
   ]
  },
  {
   "cell_type": "code",
   "execution_count": null,
   "metadata": {},
   "outputs": [],
   "source": []
  },
  {
   "cell_type": "code",
   "execution_count": 11,
   "metadata": {},
   "outputs": [],
   "source": [
    "run=False\n",
    "ix,iy=-1,-1\n",
    "follow=25\n",
    "img=np.zeros((512,512,1))\n",
    "\n",
    "def draw(event,x,y,flag,params):\n",
    "    global run,ix,iy,img,follow\n",
    "    \n",
    "    if event == cv2.EVENT_LBUTTONDOWN:\n",
    "        run=True\n",
    "        ix,iy=x,y\n",
    "        \n",
    "    elif event == cv2.EVENT_MOUSEMOVE:\n",
    "        if run == True:\n",
    "            cv2.circle(img,(x,y),15,(255,255,255),-1)\n",
    "            \n",
    "    elif event == cv2.EVENT_LBUTTONUP:\n",
    "        run=False\n",
    "        cv2.circle(img,(x,y),15,(255,255,255),-1)\n",
    "        gray=cv2.resize(img,(28,28))\n",
    "        gray=gray.reshape((1,28,28,1))\n",
    "        result=np.argmax(model.predict(gray))\n",
    "        result=f\"cnn:{result}\"\n",
    "        cv2.putText(img,result,org=(25,follow),fontFace=cv2.FONT_HERSHEY_PLAIN,thickness=2,fontScale=1,color=(255,0,0))\n",
    "        follow+=25\n",
    "    elif event==cv2.EVENT_RBUTTONDOWN:\n",
    "        img=np.zeros((512,512,1))\n",
    "        follow=25\n",
    "        \n",
    "cv2.namedWindow('image')\n",
    "cv2.setMouseCallback('image',draw)\n",
    "\n",
    "while True:\n",
    "    cv2.imshow('image',img)\n",
    "    if cv2.waitKey(1) ==27:\n",
    "        break\n",
    "cv2.destroyAllWindows()"
   ]
  },
  {
   "cell_type": "code",
   "execution_count": null,
   "metadata": {},
   "outputs": [],
   "source": []
  }
 ],
 "metadata": {
  "kernelspec": {
   "display_name": "Python 3",
   "language": "python",
   "name": "python3"
  },
  "language_info": {
   "codemirror_mode": {
    "name": "ipython",
    "version": 3
   },
   "file_extension": ".py",
   "mimetype": "text/x-python",
   "name": "python",
   "nbconvert_exporter": "python",
   "pygments_lexer": "ipython3",
   "version": "3.8.6"
  }
 },
 "nbformat": 4,
 "nbformat_minor": 4
}
