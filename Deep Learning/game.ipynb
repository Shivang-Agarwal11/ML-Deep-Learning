{
 "cells": [
  {
   "cell_type": "code",
   "execution_count": 1,
   "metadata": {},
   "outputs": [],
   "source": [
    "import cv2\n",
    "import os\n",
    "import numpy as np\n",
    "from sklearn.metrics import pairwise"
   ]
  },
  {
   "cell_type": "code",
   "execution_count": 8,
   "metadata": {},
   "outputs": [],
   "source": [
    "vid=cv2.VideoCapture(0)\n",
    "vid.set(3,1920)\n",
    "vid.set(4,1080)\n",
    "while True:\n",
    "    ret,frame=vid.read()\n",
    "    \n",
    "    frame=cv2.flip(frame,1)\n",
    "    cv2.putText(frame,\"GAME!!\",(590,50),fontFace=cv2.FONT_HERSHEY_COMPLEX_SMALL,color=(260,145,0),thickness=2,fontScale=1.7)\n",
    "    cv2.rectangle(frame,(0,70),(645,717),color=(255,0,0),thickness=2)\n",
    "    cv2.rectangle(frame,(647,70),(1278,718),color=(0,0,255),thickness=2)\n",
    "#     frame=cv2.cvtColor(frame,cv2.COLOR_RGB2GRAY)\n",
    "    cv2.imshow(\"BOX\",frame)\n",
    "    if cv2.waitKey(1) & 0xff==27:\n",
    "        break\n",
    "vid.release()\n",
    "cv2.destroyAllWindows()"
   ]
  },
  {
   "cell_type": "code",
   "execution_count": 3,
   "metadata": {},
   "outputs": [],
   "source": [
    "if not os.path.exists('data'):\n",
    "    os.makedirs('data')\n",
    "    os.makedirs('data/train')\n",
    "    os.makedirs('data/test')\n",
    "    os.makedirs('data/train/stone')\n",
    "    os.makedirs('data/train/paper')\n",
    "    os.makedirs('data/train/scissor')\n",
    "    os.makedirs('data/test/stone')\n",
    "    os.makedirs('data/test/paper')\n",
    "    os.makedirs('data/test/scissor')"
   ]
  },
  {
   "cell_type": "code",
   "execution_count": 2,
   "metadata": {},
   "outputs": [],
   "source": [
    "mode='train'\n",
    "dire='data/'+mode+'/'\n",
    "\n",
    "cap=cv2.VideoCapture(0)\n",
    "\n",
    "while(True):\n",
    "    ret,frame=cap.read()\n",
    "    \n",
    "    frame=cv2.flip(frame,1)\n",
    "    \n",
    "    count_dic={'stone':len(os.listdir(dire+'/stone')),\n",
    "              'paper':len(os.listdir(dire+'/paper')),\n",
    "              'scissor':len(os.listdir(dire+'/scissor'))}\n",
    "    cv2.putText(frame, \"MODE : \"+mode, (10, 50), cv2.FONT_HERSHEY_PLAIN, 1, (0,255,255), 1)\n",
    "    cv2.putText(frame, \"IMAGE COUNT\", (10, 100), cv2.FONT_HERSHEY_PLAIN, 1, (0,255,255), 1)\n",
    "    cv2.putText(frame, \"STONE : \"+str(count_dic['stone']), (10, 120), cv2.FONT_HERSHEY_PLAIN, 1, (0,255,255), 1)\n",
    "    cv2.putText(frame, \"PAPER : \"+str(count_dic['paper']), (10, 140), cv2.FONT_HERSHEY_PLAIN, 1, (0,255,255), 1)\n",
    "    cv2.putText(frame, \"SCISSOR : \"+str(count_dic['scissor']), (10, 160), cv2.FONT_HERSHEY_PLAIN, 1, (0,255,255), 1)\n",
    "    \n",
    "    x1 = int(0.5*frame.shape[1])\n",
    "#     print(x1)\n",
    "    y1 = 10\n",
    "    x2 = frame.shape[1]-10\n",
    "    y2 = int(0.5*frame.shape[1])\n",
    "    # Drawing the ROI\n",
    "    # The increment/decrement by 1 is to compensate for the bounding box\n",
    "    cv2.rectangle(frame, (x1-1, y1-1), (x2+1, y2+1), (255,0,0) ,1)\n",
    "    # Extracting the ROI\n",
    "    roi = frame[y1:y2, x1:x2]\n",
    "    roi = cv2.resize(roi, (64, 64)) \n",
    " \n",
    "    cv2.imshow(\"Frame\", frame)\n",
    "    \n",
    "    roi = cv2.cvtColor(roi, cv2.COLOR_BGR2GRAY)\n",
    "    _, roi = cv2.threshold(roi, 120, 255, cv2.THRESH_BINARY)\n",
    "    cv2.imshow(\"ROI\", roi)\n",
    "    \n",
    "    interrupt = cv2.waitKey(10)\n",
    "    if interrupt & 0xFF == 27: # esc key\n",
    "        break\n",
    "    if interrupt & 0xFF == ord('0'):\n",
    "        cv2.imwrite(dire+'stone/'+str(count_dic['stone'])+'.jpg', roi)\n",
    "    if interrupt & 0xFF == ord('1'):\n",
    "        cv2.imwrite(dire+'paper/'+str(count_dic['paper'])+'.jpg', roi)\n",
    "    if interrupt & 0xFF == ord('2'):\n",
    "        cv2.imwrite(dire+'scissor/'+str(count_dic['scissor'])+'.jpg', roi)\n",
    "    \n",
    "cap.release()\n",
    "cv2.destroyAllWindows()"
   ]
  },
  {
   "cell_type": "code",
   "execution_count": null,
   "metadata": {},
   "outputs": [],
   "source": []
  }
 ],
 "metadata": {
  "kernelspec": {
   "display_name": "Python 3",
   "language": "python",
   "name": "python3"
  },
  "language_info": {
   "codemirror_mode": {
    "name": "ipython",
    "version": 3
   },
   "file_extension": ".py",
   "mimetype": "text/x-python",
   "name": "python",
   "nbconvert_exporter": "python",
   "pygments_lexer": "ipython3",
   "version": "3.8.6"
  }
 },
 "nbformat": 4,
 "nbformat_minor": 4
}
