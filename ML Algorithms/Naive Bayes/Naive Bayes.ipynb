{
 "cells": [
  {
   "cell_type": "markdown",
   "id": "6db7baec",
   "metadata": {},
   "source": [
    "# Naive Bayes \n",
    "refer: https://towardsdatascience.com/naive-bayes-classifier-81d512f50a7c"
   ]
  },
  {
   "cell_type": "markdown",
   "id": "ecb8c2e6",
   "metadata": {},
   "source": [
    "#### A Naive Bayes classifier is a probabilistic machine learning model that’s used for classification task. The crux of the classifier is based on the Bayes theorem. It uses the conditional probability algorithm called as Baye's theorem."
   ]
  },
  {
   "cell_type": "markdown",
   "id": "690bf797",
   "metadata": {},
   "source": [
    "### Baye's Theorem\n",
    "<img src='Bayes.png'/>"
   ]
  },
  {
   "cell_type": "markdown",
   "id": "0b3f2590",
   "metadata": {},
   "source": [
    "### Types of Naive Bayes Classifier:\n",
    "<ul>\n",
    "    <li>Multinomial Naive Bayes:\n",
    "<h6>This is mostly used for document classification problem, i.e whether a document belongs to the category of sports, politics, technology etc. The features/predictors used by the classifier are the frequency of the words present in the document.</h6></li>\n",
    "    <br/>\n",
    "    <li>Bernoulli Naive Bayes:\n",
    "<h6>This is similar to the multinomial naive bayes but the predictors are boolean variables. The parameters that we use to predict the class variable take up only values yes or no, for example if a word occurs in the text or not.</h6></li>\n",
    "    <br/>\n",
    "    <li>Gaussian Naive Bayes:\n",
    "<h6>When the predictors take up a continuous value and are not discrete, we assume that these values are sampled from a gaussian distribution.</h6></li>\n",
    "    <br/>\n",
    "<img src='Gaussian.gif'/>\n",
    "Gaussian Distribution(Normal Distribution)\n",
    "Since the way the values are present in the dataset changes, the formula for conditional probability changes to\n",
    "    <img src='prob.png'/>\n",
    " </ul>"
   ]
  },
  {
   "cell_type": "markdown",
   "id": "552a7bab",
   "metadata": {},
   "source": [
    "## Implementation"
   ]
  },
  {
   "cell_type": "code",
   "execution_count": 2,
   "id": "0c57f06a",
   "metadata": {},
   "outputs": [],
   "source": [
    "import pandas as pd\n",
    "from sklearn.naive_bayes import GaussianNB\n",
    "from sklearn.datasets import load_iris\n",
    "from sklearn.model_selection import train_test_split"
   ]
  },
  {
   "cell_type": "code",
   "execution_count": 8,
   "id": "23f53b0f",
   "metadata": {},
   "outputs": [],
   "source": [
    "iris=load_iris()\n",
    "X=pd.DataFrame(iris.data,columns=iris.feature_names)\n",
    "y=pd.DataFrame(iris.target)"
   ]
  },
  {
   "cell_type": "code",
   "execution_count": 12,
   "id": "fa46ae32",
   "metadata": {},
   "outputs": [],
   "source": [
    "X_train,X_test,y_train,y_test=train_test_split(X,y,random_state=21,test_size=0.3)"
   ]
  },
  {
   "cell_type": "code",
   "execution_count": 13,
   "id": "0fcbb420",
   "metadata": {},
   "outputs": [],
   "source": [
    "gn=GaussianNB()"
   ]
  },
  {
   "cell_type": "code",
   "execution_count": 14,
   "id": "99265f95",
   "metadata": {},
   "outputs": [
    {
     "name": "stderr",
     "output_type": "stream",
     "text": [
      "C:\\Users\\shiva\\AppData\\Local\\Programs\\Python\\Python39\\lib\\site-packages\\sklearn\\utils\\validation.py:993: DataConversionWarning: A column-vector y was passed when a 1d array was expected. Please change the shape of y to (n_samples, ), for example using ravel().\n",
      "  y = column_or_1d(y, warn=True)\n"
     ]
    },
    {
     "data": {
      "text/plain": [
       "GaussianNB()"
      ]
     },
     "execution_count": 14,
     "metadata": {},
     "output_type": "execute_result"
    }
   ],
   "source": [
    "gn.fit(X_train,y_train)"
   ]
  },
  {
   "cell_type": "code",
   "execution_count": 15,
   "id": "a7a4e1d5",
   "metadata": {},
   "outputs": [],
   "source": [
    "y_pred=gn.predict(X_test)"
   ]
  },
  {
   "cell_type": "code",
   "execution_count": 16,
   "id": "83d98b8d",
   "metadata": {},
   "outputs": [],
   "source": [
    "from sklearn import metrics"
   ]
  },
  {
   "cell_type": "code",
   "execution_count": 21,
   "id": "37afe3ee",
   "metadata": {},
   "outputs": [
    {
     "name": "stdout",
     "output_type": "stream",
     "text": [
      "Accuracy of model is 95.55555555555556 %\n"
     ]
    }
   ],
   "source": [
    "print(f\"Accuracy of model is {metrics.accuracy_score(y_pred,y_test)*100} %\")"
   ]
  },
  {
   "cell_type": "code",
   "execution_count": null,
   "id": "40a1bbe8",
   "metadata": {},
   "outputs": [],
   "source": []
  }
 ],
 "metadata": {
  "kernelspec": {
   "display_name": "Python 3 (ipykernel)",
   "language": "python",
   "name": "python3"
  },
  "language_info": {
   "codemirror_mode": {
    "name": "ipython",
    "version": 3
   },
   "file_extension": ".py",
   "mimetype": "text/x-python",
   "name": "python",
   "nbconvert_exporter": "python",
   "pygments_lexer": "ipython3",
   "version": "3.9.8"
  }
 },
 "nbformat": 4,
 "nbformat_minor": 5
}
