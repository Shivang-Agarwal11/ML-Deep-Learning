{
 "cells": [
  {
   "cell_type": "markdown",
   "id": "6db7baec",
   "metadata": {},
   "source": [
    "# Naive Bayes"
   ]
  },
  {
   "cell_type": "markdown",
   "id": "ecb8c2e6",
   "metadata": {},
   "source": [
    "#### A Naive Bayes classifier is a probabilistic machine learning model that’s used for classification task. The crux of the classifier is based on the Bayes theorem. It uses the conditional probability algorithm called as Baye's theorem."
   ]
  },
  {
   "cell_type": "markdown",
   "id": "fdd998ae",
   "metadata": {},
   "source": [
    "### Baye's Theorem\n",
    "<img src='Bayes.png'/>"
   ]
  },
  {
   "cell_type": "markdown",
   "id": "e7775b02",
   "metadata": {},
   "source": [
    "### Types of Naive Bayes Classifier:\n",
    "<ul>\n",
    "    <li>Multinomial Naive Bayes:\n",
    "<h6>This is mostly used for document classification problem, i.e whether a document belongs to the category of sports, politics, technology etc. The features/predictors used by the classifier are the frequency of the words present in the document.</h6></li>\n",
    "\n",
    "    <li>Bernoulli Naive Bayes:\n",
    "<h6>This is similar to the multinomial naive bayes but the predictors are boolean variables. The parameters that we use to predict the class variable take up only values yes or no, for example if a word occurs in the text or not.</h6></li>\n",
    "\n",
    "    <li>Gaussian Naive Bayes:</li>\n",
    "<h6>When the predictors take up a continuous value and are not discrete, we assume that these values are sampled from a gaussian distribution.</h6>\n",
    "\n",
    "<img src='Gaussian.gif'/>\n",
    "Gaussian Distribution(Normal Distribution)\n",
    "Since the way the values are present in the dataset changes, the formula for conditional probability changes to\n",
    " </ul>"
   ]
  },
  {
   "cell_type": "code",
   "execution_count": null,
   "id": "0316616b",
   "metadata": {},
   "outputs": [],
   "source": []
  }
 ],
 "metadata": {
  "kernelspec": {
   "display_name": "Python 3 (ipykernel)",
   "language": "python",
   "name": "python3"
  },
  "language_info": {
   "codemirror_mode": {
    "name": "ipython",
    "version": 3
   },
   "file_extension": ".py",
   "mimetype": "text/x-python",
   "name": "python",
   "nbconvert_exporter": "python",
   "pygments_lexer": "ipython3",
   "version": "3.9.8"
  }
 },
 "nbformat": 4,
 "nbformat_minor": 5
}
