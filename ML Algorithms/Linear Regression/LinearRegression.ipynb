{
 "cells": [
  {
   "cell_type": "markdown",
   "id": "8c5e3b0e",
   "metadata": {},
   "source": [
    "# Linear Regression"
   ]
  },
  {
   "cell_type": "markdown",
   "id": "1f65198b",
   "metadata": {},
   "source": [
    "Linear regression algorithm shows a linear relationship between a dependent (y) and one or more independent (x) variables. It uses a best fit line to train a model and do predictions.\n",
    "\n",
    "Mathematical Inituition:\n",
    "\n",
    "Let y be the dependent variable and x be the independent variable.\n",
    "##### Equation: y=mx+c (linear line equation) \n",
    "\n",
    "y:dependent variable\n",
    "m:slope\n",
    "c:some constant\n",
    "\n",
    "To calculate the best fit line in the model the cost function and the gradient descent are used.\n",
    "\n",
    "### Cost Function\n",
    "\n",
    "##### Cost Function(J)= 1/2n(Σi=1 to n(hi-yi)^2)\n",
    "\n",
    "where:\n",
    "n=number of points\n",
    "i=number of values of x\n",
    "hi=predicted value\n",
    "yi=original or actual value\n",
    "\n",
    "### Gradient Decsent\n",
    "\n",
    "Graph is plotted between the Cost Fuction(J) and the value of slope(m)\n",
    "\n",
    "for every iteration\n",
    "m=m-derivative(m) * alpha(learning rate)\n",
    "\n",
    "###### dervative of m determines the slope of gradient descent \n",
    "###### learning rate defines the multiplying factor that should be small to avoid the problem of not reaching the global minima even after many iterations\n"
   ]
  },
  {
   "cell_type": "markdown",
   "id": "e67c6a72",
   "metadata": {},
   "source": [
    "# Basic Linear Regression Code:\n",
    "#### equation be : A0+A1x+e\n",
    "##### e: residual error\n",
    "\n",
    "\n",
    "\n",
    "##### Our task is to find the value of A0 and A1 for which J(A0,A1) is minimum.\n",
    "Without going into the mathematical details, we present the result here:\n",
    "<img src=\"1.png\" style=\"height:270px;width:80%\"/>  "
   ]
  },
  {
   "cell_type": "code",
   "execution_count": 1,
   "id": "e7689965",
   "metadata": {},
   "outputs": [
    {
     "name": "stdout",
     "output_type": "stream",
     "text": [
      "Estimated coefficients:\n",
      "b_0 = 1.2363636363636363            \n",
      "b_1 = 1.1696969696969697\n"
     ]
    },
    {
     "data": {
      "image/png": "[encoded data removed]",
      "text/plain": [
       "<Figure size 432x288 with 1 Axes>"
      ]
     },
     "metadata": {
      "needs_background": "light"
     },
     "output_type": "display_data"
    }
   ],
   "source": [
    "import numpy as np\n",
    "import matplotlib.pyplot as plt\n",
    "  \n",
    "def estimate_coef(x, y):\n",
    "    # number of points\n",
    "    n = np.size(x)\n",
    "    \n",
    "    # mean of x and y vector\n",
    "    m_x = np.mean(x)\n",
    "    m_y = np.mean(y)\n",
    "  \n",
    "    # calculating cross-deviation and deviation about x\n",
    "    SS_xy = np.sum(y*x) - n*m_y*m_x\n",
    "    SS_xx = np.sum(x*x) - n*m_x*m_x\n",
    "  \n",
    "    # calculating regression coefficients\n",
    "    b_1 = SS_xy / SS_xx\n",
    "    b_0 = m_y - b_1*m_x\n",
    "  \n",
    "    return (b_0, b_1)\n",
    "  \n",
    "def plot_regression_line(x, y, b):\n",
    "    # plotting the actual points as scatter plot\n",
    "    plt.scatter(x, y, color = \"m\",\n",
    "               marker = \"o\", s = 30)\n",
    "  \n",
    "    # predicted response vector\n",
    "    y_pred = b[0] + b[1]*x\n",
    "  \n",
    "    # plotting the regression line\n",
    "    plt.plot(x, y_pred, color = \"g\")\n",
    "  \n",
    "    # putting labels\n",
    "    plt.xlabel('x')\n",
    "    plt.ylabel('y')\n",
    "  \n",
    "    # function to show plot\n",
    "    plt.show()\n",
    "  \n",
    "def main():\n",
    "    # observations / data\n",
    "    x = np.array([0, 1, 2, 3, 4, 5, 6, 7, 8, 9])\n",
    "    y = np.array([1, 3, 2, 5, 7, 8, 8, 9, 10, 12])\n",
    "  \n",
    "    # estimating coefficients\n",
    "    b = estimate_coef(x, y)\n",
    "    print(\"Estimated coefficients:\\nb_0 = {}  \\\n",
    "          \\nb_1 = {}\".format(b[0], b[1]))\n",
    "  \n",
    "    # plotting regression line\n",
    "    plot_regression_line(x, y, b)\n",
    "  \n",
    "if __name__ == \"__main__\":\n",
    "    main()"
   ]
  },
  {
   "cell_type": "markdown",
   "id": "5169e482",
   "metadata": {},
   "source": [
    "# Multiple Linear Regression"
   ]
  },
  {
   "cell_type": "markdown",
   "id": "70ee7e57",
   "metadata": {},
   "source": [
    "##### Multiple Linear Regression is the extension of simple linear regression. In simple linear regression we try to fit only on dependent and independent variable but in multiple linear regression we try to find the relationship between two or more features and generate a response by fitting a linear eqaution.\n",
    "\n",
    "#### Equation will be of form:\n",
    "#### y=A0+A1x1+A2x2+A3x3+......+Anxn"
   ]
  },
  {
   "cell_type": "markdown",
   "id": "209f10eb",
   "metadata": {},
   "source": [
    "#### To determine multiple linear regression we will use the botson housing dataset"
   ]
  },
  {
   "cell_type": "code",
   "execution_count": 15,
   "id": "eea07244",
   "metadata": {},
   "outputs": [],
   "source": [
    "import numpy as np\n",
    "import matplotlib.pyplot as plt\n",
    "import warnings\n",
    "from sklearn.model_selection import train_test_split\n",
    "from sklearn import datasets,linear_model,metrics\n",
    "%matplotlib inline"
   ]
  },
  {
   "cell_type": "code",
   "execution_count": 12,
   "id": "54c258cf",
   "metadata": {},
   "outputs": [],
   "source": [
    "warnings.filterwarnings('ignore')\n",
    "\n",
    "boston=datasets.load_boston(return_X_y=False)"
   ]
  },
  {
   "cell_type": "code",
   "execution_count": 14,
   "id": "e7182006",
   "metadata": {},
   "outputs": [],
   "source": [
    "X=boston.data\n",
    "y=boston.target"
   ]
  },
  {
   "cell_type": "code",
   "execution_count": 16,
   "id": "b39f1ccd",
   "metadata": {},
   "outputs": [],
   "source": [
    "X_train,X_test,y_train,y_test=train_test_split(X,y,test_size=0.3,random_state=1)"
   ]
  },
  {
   "cell_type": "code",
   "execution_count": 17,
   "id": "8c773b2c",
   "metadata": {},
   "outputs": [],
   "source": [
    "regression_model=linear_model.LinearRegression()"
   ]
  },
  {
   "cell_type": "code",
   "execution_count": 18,
   "id": "cb50b2a3",
   "metadata": {},
   "outputs": [
    {
     "data": {
      "text/plain": [
       "LinearRegression()"
      ]
     },
     "execution_count": 18,
     "metadata": {},
     "output_type": "execute_result"
    }
   ],
   "source": [
    "regression_model.fit(X_train,y_train)"
   ]
  },
  {
   "cell_type": "code",
   "execution_count": 19,
   "id": "288b6f5e",
   "metadata": {},
   "outputs": [
    {
     "name": "stdout",
     "output_type": "stream",
     "text": [
      "Coefficients:[-9.85424717e-02  6.07841138e-02  5.91715401e-02  2.43955988e+00\n",
      " -2.14699650e+01  2.79581385e+00  3.57459778e-03 -1.51627218e+00\n",
      "  3.07541745e-01 -1.12800166e-02 -1.00546640e+00  6.45018446e-03\n",
      " -5.68834539e-01]\n"
     ]
    }
   ],
   "source": [
    "print(f\"Coefficients:{regression_model.coef_}\")"
   ]
  },
  {
   "cell_type": "markdown",
   "id": "b802c462",
   "metadata": {},
   "source": [
    "#### The above coefficients are the slope with respect to different featues present in the dataset"
   ]
  },
  {
   "cell_type": "markdown",
   "id": "079b19fd",
   "metadata": {},
   "source": [
    "#### Variance score = 1-Var(y-hi)/Var(y)\n",
    "\n",
    "##### desired value is close to 1"
   ]
  },
  {
   "cell_type": "code",
   "execution_count": 20,
   "id": "03b49afe",
   "metadata": {},
   "outputs": [
    {
     "name": "stdout",
     "output_type": "stream",
     "text": [
      "Variance score: 0.7836295385076291\n"
     ]
    }
   ],
   "source": [
    "print(f'Variance score: {regression_model.score(X_test, y_test)}')"
   ]
  },
  {
   "cell_type": "code",
   "execution_count": 27,
   "id": "55602775",
   "metadata": {},
   "outputs": [
    {
     "data": {
      "image/png": "[encoded data removed]",
      "text/plain": [
       "<Figure size 432x288 with 1 Axes>"
      ]
     },
     "metadata": {},
     "output_type": "display_data"
    }
   ],
   "source": [
    "plt.style.use('fivethirtyeight')\n",
    "  \n",
    "# plotting residual errors in training data\n",
    "plt.scatter(regression_model.predict(X_train), regression_model.predict(X_train) - y_train,\n",
    "            color = \"green\", s = 10, label = 'Train data')\n",
    "  \n",
    "# plotting residual errors in test data\n",
    "plt.scatter(regression_model.predict(X_test), regression_model.predict(X_test) - y_test,\n",
    "            color = \"blue\", s = 10, label = 'Test data')\n",
    "  \n",
    "# plotting line for zero residual error\n",
    "plt.hlines(y = 0, xmin = 0, xmax = 50, linewidth = 2)\n",
    "  \n",
    "# plotting legend\n",
    "plt.legend(loc = 'upper right')\n",
    "  \n",
    "# plot title\n",
    "plt.title(\"Residual errors\")\n",
    "  \n",
    "# method call for showing the plot\n",
    "plt.show()\n"
   ]
  },
  {
   "cell_type": "code",
   "execution_count": null,
   "id": "cb8e77da",
   "metadata": {},
   "outputs": [],
   "source": []
  }
 ],
 "metadata": {
  "kernelspec": {
   "display_name": "Python 3 (ipykernel)",
   "language": "python",
   "name": "python3"
  },
  "language_info": {
   "codemirror_mode": {
    "name": "ipython",
    "version": 3
   },
   "file_extension": ".py",
   "mimetype": "text/x-python",
   "name": "python",
   "nbconvert_exporter": "python",
   "pygments_lexer": "ipython3",
   "version": "3.9.8"
  }
 },
 "nbformat": 4,
 "nbformat_minor": 5
}
