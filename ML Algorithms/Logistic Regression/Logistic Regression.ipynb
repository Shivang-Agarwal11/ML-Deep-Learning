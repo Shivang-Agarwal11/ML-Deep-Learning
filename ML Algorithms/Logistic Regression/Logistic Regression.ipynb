{
 "cells": [
  {
   "cell_type": "markdown",
   "id": "a3b4d410",
   "metadata": {},
   "source": [
    "# Logistic Regression"
   ]
  },
  {
   "cell_type": "markdown",
   "id": "00597723",
   "metadata": {},
   "source": [
    "## Need for Logistic Regression:\n",
    "#### We can use linear regression for classification but it may produce a high error rate when their are more data points and outliers.\n",
    "#### For instance lets consider an example if we have to predcit whether the item is heavy or not based on a dataset. Consider we found that items above 70 kg are considered heavy and below it are light using linear regression. Now if we added few more data points and outliers then our best fit line wil change.\n",
    "#### Now let new checkpoint weight due to outliers change to 90. So now our model will predict all items below 90 as light which are actually not thus incresing the false negatives thus decreasing the model efficiency. Thus to avoid this Logistic Regression is used for classfication."
   ]
  },
  {
   "cell_type": "markdown",
   "id": "8b467f51",
   "metadata": {},
   "source": [
    "### Thus to avoid this Logistic Regression is used for classfication."
   ]
  },
  {
   "cell_type": "code",
   "execution_count": null,
   "id": "dbc8b105",
   "metadata": {},
   "outputs": [],
   "source": []
  }
 ],
 "metadata": {
  "kernelspec": {
   "display_name": "Python 3 (ipykernel)",
   "language": "python",
   "name": "python3"
  },
  "language_info": {
   "codemirror_mode": {
    "name": "ipython",
    "version": 3
   },
   "file_extension": ".py",
   "mimetype": "text/x-python",
   "name": "python",
   "nbconvert_exporter": "python",
   "pygments_lexer": "ipython3",
   "version": "3.9.8"
  }
 },
 "nbformat": 4,
 "nbformat_minor": 5
}
